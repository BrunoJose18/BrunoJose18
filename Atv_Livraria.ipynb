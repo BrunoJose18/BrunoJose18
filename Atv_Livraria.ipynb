{
  "nbformat": 4,
  "nbformat_minor": 0,
  "metadata": {
    "colab": {
      "provenance": [],
      "authorship_tag": "ABX9TyPsNTIF5GznMdm4brcn+Z0F",
      "include_colab_link": true
    },
    "kernelspec": {
      "name": "python3",
      "display_name": "Python 3"
    },
    "language_info": {
      "name": "python"
    }
  },
  "cells": [
    {
      "cell_type": "markdown",
      "metadata": {
        "id": "view-in-github",
        "colab_type": "text"
      },
      "source": [
        "<a href=\"https://colab.research.google.com/github/BrunoJose18/BrunoJose18/blob/main/Atv_Livraria.ipynb\" target=\"_parent\"><img src=\"https://colab.research.google.com/assets/colab-badge.svg\" alt=\"Open In Colab\"/></a>"
      ]
    },
    {
      "cell_type": "code",
      "execution_count": 8,
      "metadata": {
        "id": "MmKZwowi1Q5t"
      },
      "outputs": [],
      "source": [
        "class ErroNoValor(Exception):\n",
        "    #Exceção personalizada para erros relacionados a valores inválidos.\n",
        "    pass\n",
        "\n",
        "class Livro:\n",
        "    #Classe base para representar um livro.\n",
        "    def __init__(self, autor, nome, preco):\n",
        "        #Inicializa um livro com autor, nome e preço.\n",
        "        self.autor = autor\n",
        "        self.nome = nome\n",
        "        self._preco_original = preco\n",
        "        self._preco = preco #Preco atual (com ou sem desconto)\n",
        "        self._desconto = 0\n",
        "\n",
        "    @property\n",
        "    def preco_original(self):\n",
        "        #Retorna o preço original do livro, sem desconto.\n",
        "        return self._preco_original\n",
        "\n",
        "    @property\n",
        "    def preco(self):\n",
        "        #Retorna o preço atual do livro.\n",
        "        return self._preco\n",
        "\n",
        "    @preco.setter\n",
        "    def preco(self, novo_preco):\n",
        "        #Define o preço do livro, garantindo que não seja negativo.\n",
        "        if novo_preco > 0:\n",
        "            self._preco = novo_preco\n",
        "        else:\n",
        "            raise ErroNoValor(\"O valor não pode ser negativo!\")\n",
        "\n",
        "    @property\n",
        "    def desconto(self):\n",
        "        #Retorna o percentual de desconto aplicado.\n",
        "        return self._desconto\n",
        "\n",
        "    @desconto.setter\n",
        "    def desconto(self, percentual):\n",
        "        #Define o desconto, garantindo que esteja entre 0 e 100.\n",
        "        if percentual < 0 or percentual > 100:\n",
        "            raise ErroNoValor(\"O desconto deve estar entre 0 e 100.\")\n",
        "\n",
        "        self._desconto = percentual\n",
        "        self._preco = self._preco_original * (1 - percentual / 100)\n",
        "\n",
        "    def detalhes(self):\n",
        "        #Retorna uma descrição detalhada do livro.\n",
        "        desconto_str = f\" com desconto de {self.desconto}%\" if self.desconto > 0 else \"\"\n",
        "        return f\"O livro '{self.nome}' foi escrito por {self.autor} e custa R$ {self.preco:.2f}{desconto_str}.\"\n",
        "\n",
        "    @staticmethod\n",
        "    def finalizar_compra(lista_livros):\n",
        "        #Finaliza a compra, exibindo um resumo e o total a pagar.\n",
        "        total = 0\n",
        "        resumo = []\n",
        "\n",
        "        for livro in lista_livros:\n",
        "            resumo.append(livro.detalhes())\n",
        "            total += livro.preco\n",
        "\n",
        "        resultado_final = \"Resumo da sua compra:\\n\" + \"\\n\".join(resumo)\n",
        "        resultado_final += f\"\\nTotal a pagar: R$ {total:.2f}\"\n",
        "        print(resultado_final)\n",
        "\n",
        "class LivroFisico(Livro):\n",
        "    #Classe para representar um livro físico, herdando de Livro.\n",
        "    def __init__(self, autor, nome, preco, peso):\n",
        "        super().__init__(autor, nome, preco)\n",
        "        self.peso = peso\n",
        "\n",
        "    def detalhes(self):\n",
        "        #Retorna uma descrição detalhada do livro físico.\n",
        "        detalhesLF = super().detalhes()\n",
        "        return f\"{detalhesLF} O livro pesa {self.peso} gramas.\"\n",
        "\n",
        "class EBook(Livro):\n",
        "    #Classe para representar um e-book, herdando de Livro.\n",
        "    def __init__(self, autor, nome, preco, tamanho_arquivo):\n",
        "        super().__init__(autor, nome, preco)\n",
        "        self.tamanho_arquivo = tamanho_arquivo\n",
        "\n",
        "    def detalhes(self):\n",
        "        #Retorna uma descrição detalhada do e-book.\n",
        "        detalhesEB = super().detalhes()\n",
        "        return f\"{detalhesEB} O tamanho do arquivo do livro é de {self.tamanho_arquivo} MB.\"\n"
      ]
    },
    {
      "cell_type": "code",
      "source": [
        "# Testes\n",
        "livro1 = LivroFisico(\"Rick Riordan\", \"Os Heróis do Olimpo\", 48, 1000)\n",
        "print(livro1.detalhes())\n",
        "livro1.preco = 45\n",
        "print(livro1.detalhes())\n",
        "livro1.desconto = 20\n",
        "print(livro1.detalhes())\n",
        "print(livro1.preco_original)\n",
        "\n",
        "livro2 = EBook(\"Taylor Jenkins\", \"Os sete maridos de Evelyn Hugo\", 77, 4)\n",
        "print(livro2.detalhes())\n",
        "livro2.desconto = 10\n",
        "print(livro2.detalhes())"
      ],
      "metadata": {
        "id": "Cav3T8p3k4Fk"
      },
      "execution_count": null,
      "outputs": []
    },
    {
      "cell_type": "code",
      "source": [
        "try: #Teste para ver se a mensagem de erro funciona caso o desconto seja alto ou menor que 0\n",
        "  livro1.desconto = 100\n",
        "except ErroNoValor as e:\n",
        "  print(e)"
      ],
      "metadata": {
        "id": "xDC48wnaobnU"
      },
      "execution_count": null,
      "outputs": []
    },
    {
      "cell_type": "code",
      "source": [
        "try:\n",
        "  livro1.desconto = -10\n",
        "except ErroNoValor as f:\n",
        "  print(f)"
      ],
      "metadata": {
        "id": "U-DY8Zhrop_e"
      },
      "execution_count": null,
      "outputs": []
    },
    {
      "cell_type": "code",
      "source": [
        "#Testando a classe do EBook\n",
        "livro3 = EBook(\"Taylor Jenkins\", \"Os sete maridos de Evelyn Hugo\", 77, 4)\n",
        "print(livro3.detalhes())\n",
        "livro3.desconto = 10\n",
        "print(livro3.detalhes())\n",
        "livro4 = EBook(\"CJ Tudor\", \"O Homem de Giz\", 36, 3.4)\n",
        "print(livro4.detalhes())\n",
        "livro4.preco = 30\n",
        "print(livro4.detalhes())\n",
        "print(livro4.preco_original)\n"
      ],
      "metadata": {
        "colab": {
          "base_uri": "https://localhost:8080/"
        },
        "id": "dCCJatZ3Oh4S",
        "outputId": "df17c112-a8f3-4bae-9712-3f6a6d75064a"
      },
      "execution_count": 18,
      "outputs": [
        {
          "output_type": "stream",
          "name": "stdout",
          "text": [
            "O livro 'Os sete maridos de Evelyn Hugo' foi escrito por Taylor Jenkins e custa R$ 77.00. O tamanho do arquivo do livro é de 4 MB.\n",
            "O livro 'Os sete maridos de Evelyn Hugo' foi escrito por Taylor Jenkins e custa R$ 69.30 com desconto de 10%. O tamanho do arquivo do livro é de 4 MB.\n",
            "O livro 'O Homem de Giz' foi escrito por CJ Tudor e custa R$ 36.00. O tamanho do arquivo do livro é de 3.4 MB.\n",
            "O livro 'O Homem de Giz' foi escrito por CJ Tudor e custa R$ 30.00. O tamanho do arquivo do livro é de 3.4 MB.\n",
            "36\n"
          ]
        }
      ]
    },
    {
      "cell_type": "code",
      "source": [
        "#Teste de erro com livro do EBook\n",
        "try:\n",
        "  livro4.desconto = -7\n",
        "except ErroNoValor as o:\n",
        "  print(o)"
      ],
      "metadata": {
        "colab": {
          "base_uri": "https://localhost:8080/"
        },
        "id": "YfyQ_JvIpIuR",
        "outputId": "0019e773-8d37-420a-a0b0-d40e6d46b84c"
      },
      "execution_count": 19,
      "outputs": [
        {
          "output_type": "stream",
          "name": "stdout",
          "text": [
            "O desconto deve estar entre 0 e 100.\n"
          ]
        }
      ]
    },
    {
      "cell_type": "markdown",
      "source": [
        "Sistema teste de compras:"
      ],
      "metadata": {
        "id": "xoQnJD0Vg_kd"
      }
    },
    {
      "cell_type": "code",
      "source": [
        "livro5 = LivroFisico(\"Sarah Andersen e Sofia Soter\", \"Mordida\", 51, 900)\n",
        "livro6 = LivroFisico(\"Le Fanu J. Sheridan e John Polidori\", \"Carmilla - A vampira de Karnstein\", 26, 1000)\n",
        "livro7 = EBook(\"Tori Telfer\", \"Lady Killers: Assassinas em Série\", 30, 5)\n",
        "livro8 = EBook(\"Stephen King\", \"O iluminado\", 50, 8)\n",
        "\n",
        "livros_disponiveis = {\n",
        "    \"mordida\": livro5,\n",
        "    \"carmilla\": livro6,\n",
        "    \"lady killers\": livro7,\n",
        "    \"o iluminado\": livro8\n",
        "}"
      ],
      "metadata": {
        "id": "0Ss6G26SVX8Z"
      },
      "execution_count": 20,
      "outputs": []
    },
    {
      "cell_type": "code",
      "source": [
        "lista_livros = []\n",
        "while True:\n",
        "    compra = input(\"Digite o nome do livro que deseja comprar ou digite 'finalizar' para encerrar sua compra: \").strip().lower()\n",
        "    if compra == \"finalizar\":\n",
        "        break\n",
        "    elif compra in livros_disponiveis:\n",
        "        lista_livros.append(livros_disponiveis[compra])\n",
        "        print(f\"Livro '{compra}' adicionado à compra.\")\n",
        "    else:\n",
        "        print(\"Livro não encontrado! Por favor, tente novamente.\")\n"
      ],
      "metadata": {
        "id": "CgO28n7SW9Y4"
      },
      "execution_count": null,
      "outputs": []
    },
    {
      "cell_type": "code",
      "source": [
        "Livro.finalizar_compra(lista_livros)"
      ],
      "metadata": {
        "id": "o7pM8kokcMUX"
      },
      "execution_count": null,
      "outputs": []
    }
  ]
}